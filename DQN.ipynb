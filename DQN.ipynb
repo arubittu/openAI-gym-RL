{
  "nbformat": 4,
  "nbformat_minor": 0,
  "metadata": {
    "colab": {
      "name": "DQN.ipynb",
      "provenance": [],
      "toc_visible": true
    },
    "kernelspec": {
      "name": "python3",
      "display_name": "Python 3"
    },
    "language_info": {
      "name": "python"
    },
    "accelerator": "GPU"
  },
  "cells": [
    {
      "cell_type": "code",
      "metadata": {
        "id": "Cwx7uz3vZwfD"
      },
      "source": [
        "# pytorch neural network\n",
        "import gym\n",
        "import numpy as np\n",
        "import math\n",
        "import time\n",
        "import argparse\n",
        "import matplotlib.pyplot as plt\n",
        "import torch\n",
        "import torch.nn as nn\n",
        "import torch.nn.functional as F\n",
        "import cv2\n",
        "from google.colab.patches import cv2_imshow\n",
        "import random\n",
        "import tqdm\n"
      ],
      "execution_count": 1,
      "outputs": []
    },
    {
      "cell_type": "code",
      "metadata": {
        "colab": {
          "base_uri": "https://localhost:8080/"
        },
        "id": "xz_g_Rx01c4n",
        "outputId": "4d56fb29-0133-4ef7-9e23-58c95ad6d289"
      },
      "source": [
        "!pip install wandb\n",
        "!wandb login"
      ],
      "execution_count": 2,
      "outputs": [
        {
          "output_type": "stream",
          "name": "stdout",
          "text": [
            "Requirement already satisfied: wandb in /usr/local/lib/python3.7/dist-packages (0.12.7)\n",
            "Requirement already satisfied: GitPython>=1.0.0 in /usr/local/lib/python3.7/dist-packages (from wandb) (3.1.24)\n",
            "Requirement already satisfied: pathtools in /usr/local/lib/python3.7/dist-packages (from wandb) (0.1.2)\n",
            "Requirement already satisfied: sentry-sdk>=1.0.0 in /usr/local/lib/python3.7/dist-packages (from wandb) (1.5.0)\n",
            "Requirement already satisfied: subprocess32>=3.5.3 in /usr/local/lib/python3.7/dist-packages (from wandb) (3.5.4)\n",
            "Requirement already satisfied: configparser>=3.8.1 in /usr/local/lib/python3.7/dist-packages (from wandb) (5.2.0)\n",
            "Requirement already satisfied: yaspin>=1.0.0 in /usr/local/lib/python3.7/dist-packages (from wandb) (2.1.0)\n",
            "Requirement already satisfied: PyYAML in /usr/local/lib/python3.7/dist-packages (from wandb) (3.13)\n",
            "Requirement already satisfied: promise<3,>=2.0 in /usr/local/lib/python3.7/dist-packages (from wandb) (2.3)\n",
            "Requirement already satisfied: psutil>=5.0.0 in /usr/local/lib/python3.7/dist-packages (from wandb) (5.4.8)\n",
            "Requirement already satisfied: docker-pycreds>=0.4.0 in /usr/local/lib/python3.7/dist-packages (from wandb) (0.4.0)\n",
            "Requirement already satisfied: shortuuid>=0.5.0 in /usr/local/lib/python3.7/dist-packages (from wandb) (1.0.8)\n",
            "Requirement already satisfied: protobuf>=3.12.0 in /usr/local/lib/python3.7/dist-packages (from wandb) (3.17.3)\n",
            "Requirement already satisfied: python-dateutil>=2.6.1 in /usr/local/lib/python3.7/dist-packages (from wandb) (2.8.2)\n",
            "Requirement already satisfied: six>=1.13.0 in /usr/local/lib/python3.7/dist-packages (from wandb) (1.15.0)\n",
            "Requirement already satisfied: Click!=8.0.0,>=7.0 in /usr/local/lib/python3.7/dist-packages (from wandb) (7.1.2)\n",
            "Requirement already satisfied: requests<3,>=2.0.0 in /usr/local/lib/python3.7/dist-packages (from wandb) (2.23.0)\n",
            "Requirement already satisfied: gitdb<5,>=4.0.1 in /usr/local/lib/python3.7/dist-packages (from GitPython>=1.0.0->wandb) (4.0.9)\n",
            "Requirement already satisfied: typing-extensions>=3.7.4.3 in /usr/local/lib/python3.7/dist-packages (from GitPython>=1.0.0->wandb) (3.10.0.2)\n",
            "Requirement already satisfied: smmap<6,>=3.0.1 in /usr/local/lib/python3.7/dist-packages (from gitdb<5,>=4.0.1->GitPython>=1.0.0->wandb) (5.0.0)\n",
            "Requirement already satisfied: chardet<4,>=3.0.2 in /usr/local/lib/python3.7/dist-packages (from requests<3,>=2.0.0->wandb) (3.0.4)\n",
            "Requirement already satisfied: idna<3,>=2.5 in /usr/local/lib/python3.7/dist-packages (from requests<3,>=2.0.0->wandb) (2.10)\n",
            "Requirement already satisfied: urllib3!=1.25.0,!=1.25.1,<1.26,>=1.21.1 in /usr/local/lib/python3.7/dist-packages (from requests<3,>=2.0.0->wandb) (1.24.3)\n",
            "Requirement already satisfied: certifi>=2017.4.17 in /usr/local/lib/python3.7/dist-packages (from requests<3,>=2.0.0->wandb) (2021.10.8)\n",
            "Requirement already satisfied: termcolor<2.0.0,>=1.1.0 in /usr/local/lib/python3.7/dist-packages (from yaspin>=1.0.0->wandb) (1.1.0)\n",
            "\u001b[34m\u001b[1mwandb\u001b[0m: Currently logged in as: \u001b[33marubittu\u001b[0m (use `wandb login --relogin` to force relogin)\n"
          ]
        }
      ]
    },
    {
      "cell_type": "code",
      "metadata": {
        "colab": {
          "base_uri": "https://localhost:8080/",
          "height": 73
        },
        "id": "dGKTroZF1nft",
        "outputId": "9760446f-2de7-4a90-e54a-b7511e520856"
      },
      "source": [
        "import wandb\n",
        "wandb.init(project=\"DQN-Training\", entity=\"arubittu\")"
      ],
      "execution_count": 3,
      "outputs": [
        {
          "output_type": "stream",
          "name": "stderr",
          "text": [
            "\u001b[34m\u001b[1mwandb\u001b[0m: Currently logged in as: \u001b[33marubittu\u001b[0m (use `wandb login --relogin` to force relogin)\n"
          ]
        },
        {
          "output_type": "display_data",
          "data": {
            "text/html": [
              "\n",
              "                    Syncing run <strong><a href=\"https://wandb.ai/arubittu/DQN-Training/runs/sv8782wk\" target=\"_blank\">curious-fire-7</a></strong> to <a href=\"https://wandb.ai/arubittu/DQN-Training\" target=\"_blank\">Weights & Biases</a> (<a href=\"https://docs.wandb.com/integrations/jupyter.html\" target=\"_blank\">docs</a>).<br/>\n",
              "\n",
              "                "
            ],
            "text/plain": [
              "<IPython.core.display.HTML object>"
            ]
          },
          "metadata": {}
        },
        {
          "output_type": "execute_result",
          "data": {
            "text/plain": [
              "<wandb.sdk.wandb_run.Run at 0x7f5c6f2b9790>"
            ],
            "text/html": [
              "<button onClick=\"this.nextSibling.style.display='block';this.style.display='none';\">Display W&B run</button><iframe src=\"https://wandb.ai/arubittu/DQN-Training/runs/sv8782wk?jupyter=true\" style=\"border:none;width:100%;height:420px;display:none;\"></iframe>"
            ]
          },
          "metadata": {},
          "execution_count": 3
        }
      ]
    },
    {
      "cell_type": "code",
      "metadata": {
        "colab": {
          "base_uri": "https://localhost:8080/"
        },
        "id": "_0IZlesNJaOc",
        "outputId": "57970205-af7a-4821-a67f-8c93bc34b20e"
      },
      "source": [
        "from google.colab import drive\n",
        "drive.mount('/content/drive')"
      ],
      "execution_count": 4,
      "outputs": [
        {
          "output_type": "stream",
          "name": "stdout",
          "text": [
            "Drive already mounted at /content/drive; to attempt to forcibly remount, call drive.mount(\"/content/drive\", force_remount=True).\n"
          ]
        }
      ]
    },
    {
      "cell_type": "code",
      "metadata": {
        "id": "IT6g6AzZJ0m7",
        "colab": {
          "base_uri": "https://localhost:8080/"
        },
        "outputId": "e00a5c0c-0c81-4948-ebfb-e247c83f202e"
      },
      "source": [
        "pip install pyglet==1.5.11\n"
      ],
      "execution_count": 5,
      "outputs": [
        {
          "output_type": "stream",
          "name": "stdout",
          "text": [
            "Collecting pyglet==1.5.11\n",
            "  Using cached pyglet-1.5.11-py3-none-any.whl (1.1 MB)\n",
            "Installing collected packages: pyglet\n",
            "  Attempting uninstall: pyglet\n",
            "    Found existing installation: pyglet 1.5.0\n",
            "    Uninstalling pyglet-1.5.0:\n",
            "      Successfully uninstalled pyglet-1.5.0\n",
            "\u001b[31mERROR: pip's dependency resolver does not currently take into account all the packages that are installed. This behaviour is the source of the following dependency conflicts.\n",
            "gym 0.17.3 requires pyglet<=1.5.0,>=1.4.0, but you have pyglet 1.5.11 which is incompatible.\u001b[0m\n",
            "Successfully installed pyglet-1.5.11\n"
          ]
        }
      ]
    },
    {
      "cell_type": "code",
      "metadata": {
        "id": "oqvAZWXXaAvk"
      },
      "source": [
        "# dqn nn\n",
        "class DQN(nn.Module):\n",
        "\n",
        "  def __init__(self):\n",
        "    super(DQN, self).__init__()\n",
        "    \n",
        "  \n",
        "    self.cnn1 = nn.Conv2d(4,32,8,4)\n",
        "    self.cnn2 = nn.Conv2d(32,64,4,2)\n",
        "    self.cnn3 = nn.Conv2d(64,64,3,1)\n",
        "    \n",
        "    self.fc1 = nn.Linear(3136,512)\n",
        "    self.out = nn.Linear(512,4)\n",
        "    self.relu = nn.ReLU()\n",
        "\n",
        "  def forward(self, x):\n",
        "\n",
        "    x = self.relu(self.cnn1(x))\n",
        "    x = self.relu(self.cnn2(x))\n",
        "    x = self.relu(self.cnn3(x))\n",
        "    x = x.view(x.size(0),-1)\n",
        "    x = self.fc1(x)\n",
        "    x = self.out(x)\n",
        "\n",
        "    return x \n",
        "  \n",
        "  def linear_in_features(self,x):\n",
        "    in_features = x.view(1,-1).size(1)\n",
        "    return in_features\n",
        "\n",
        "\n",
        "#############\n",
        "net = DQN()\n",
        "a = torch.randn((1,4,84,84))\n",
        "v = net(a)\n",
        "    "
      ],
      "execution_count": 6,
      "outputs": []
    },
    {
      "cell_type": "code",
      "metadata": {
        "id": "Uc_fRXFxEeBe",
        "colab": {
          "base_uri": "https://localhost:8080/"
        },
        "outputId": "472b4f5f-143d-44ae-9e81-6b5fd4489dc6"
      },
      "source": [
        "!python -m atari_py.import_roms '/content/drive/MyDrive/rom'"
      ],
      "execution_count": 7,
      "outputs": [
        {
          "output_type": "stream",
          "name": "stdout",
          "text": [
            "copying adventure.bin from ROMS/Adventure (1980) (Atari, Warren Robinett) (CX2613, CX2613P) (PAL).bin to /usr/local/lib/python3.7/dist-packages/atari_py/atari_roms/adventure.bin\n",
            "copying air_raid.bin from ROMS/Air Raid (Men-A-Vision) (PAL) ~.bin to /usr/local/lib/python3.7/dist-packages/atari_py/atari_roms/air_raid.bin\n",
            "copying alien.bin from ROMS/Alien (1982) (20th Century Fox Video Games, Douglas 'Dallas North' Neubauer) (11006) ~.bin to /usr/local/lib/python3.7/dist-packages/atari_py/atari_roms/alien.bin\n",
            "copying amidar.bin from ROMS/Amidar (1982) (Parker Brothers, Ed Temple) (PB5310) ~.bin to /usr/local/lib/python3.7/dist-packages/atari_py/atari_roms/amidar.bin\n",
            "copying assault.bin from ROMS/Assault (AKA Sky Alien) (1983) (Bomb - Onbase) (CA281).bin to /usr/local/lib/python3.7/dist-packages/atari_py/atari_roms/assault.bin\n",
            "copying asterix.bin from ROMS/Asterix (AKA Taz) (07-27-1983) (Atari, Jerome Domurat, Steve Woita) (CX2696) (Prototype).bin to /usr/local/lib/python3.7/dist-packages/atari_py/atari_roms/asterix.bin\n",
            "copying asteroids.bin from ROMS/Asteroids (1981) (Atari, Brad Stewart - Sears) (CX2649 - 49-75163) [no copyright] ~.bin to /usr/local/lib/python3.7/dist-packages/atari_py/atari_roms/asteroids.bin\n",
            "copying atlantis.bin from ROMS/Atlantis (Lost City of Atlantis) (1982) (Imagic, Dennis Koble) (720103-1A, 720103-1B, IA3203, IX-010-04) ~.bin to /usr/local/lib/python3.7/dist-packages/atari_py/atari_roms/atlantis.bin\n",
            "copying bank_heist.bin from ROMS/Bank Heist (Bonnie & Clyde, Cops 'n' Robbers, Hold-Up, Roaring 20's) (1983) (20th Century Fox Video Games, Bill Aspromonte) (11012) ~.bin to /usr/local/lib/python3.7/dist-packages/atari_py/atari_roms/bank_heist.bin\n",
            "copying battle_zone.bin from ROMS/Battlezone (1983) (Atari - GCC, Mike Feinstein, Brad Rice) (CX2681) ~.bin to /usr/local/lib/python3.7/dist-packages/atari_py/atari_roms/battle_zone.bin\n",
            "copying beam_rider.bin from ROMS/Beamrider (1984) (Activision - Cheshire Engineering, David Rolfe, Larry Zwick) (AZ-037-04) ~.bin to /usr/local/lib/python3.7/dist-packages/atari_py/atari_roms/beam_rider.bin\n",
            "copying berzerk.bin from ROMS/Berzerk (1982) (Atari, Dan Hitchens - Sears) (CX2650 - 49-75168) ~.bin to /usr/local/lib/python3.7/dist-packages/atari_py/atari_roms/berzerk.bin\n",
            "copying bowling.bin from ROMS/Bowling (1979) (Atari, Larry Kaplan - Sears) (CX2628 - 6-99842, 49-75117) ~.bin to /usr/local/lib/python3.7/dist-packages/atari_py/atari_roms/bowling.bin\n",
            "copying boxing.bin from ROMS/Boxing - La Boxe (1980) (Activision, Bob Whitehead) (AG-002, CAG-002, AG-002-04) ~.bin to /usr/local/lib/python3.7/dist-packages/atari_py/atari_roms/boxing.bin\n",
            "copying breakout.bin from ROMS/Breakout - Breakaway IV (Paddle) (1978) (Atari, Brad Stewart - Sears) (CX2622 - 6-99813, 49-75107) ~.bin to /usr/local/lib/python3.7/dist-packages/atari_py/atari_roms/breakout.bin\n",
            "copying carnival.bin from ROMS/Carnival (1982) (Coleco - Woodside Design Associates, Steve 'Jessica Stevens' Kitchen) (2468) ~.bin to /usr/local/lib/python3.7/dist-packages/atari_py/atari_roms/carnival.bin\n",
            "copying centipede.bin from ROMS/Centipede (1983) (Atari - GCC) (CX2676) ~.bin to /usr/local/lib/python3.7/dist-packages/atari_py/atari_roms/centipede.bin\n",
            "copying chopper_command.bin from ROMS/Chopper Command (1982) (Activision, Bob Whitehead) (AX-015, AX-015-04) ~.bin to /usr/local/lib/python3.7/dist-packages/atari_py/atari_roms/chopper_command.bin\n",
            "copying crazy_climber.bin from ROMS/Crazy Climber (1983) (Atari - Roklan, Joe Gaucher, Alex Leavens) (CX2683) ~.bin to /usr/local/lib/python3.7/dist-packages/atari_py/atari_roms/crazy_climber.bin\n",
            "copying defender.bin from ROMS/Defender (1982) (Atari, Robert C. Polaro, Alan J. Murphy - Sears) (CX2609 - 49-75186) ~.bin to /usr/local/lib/python3.7/dist-packages/atari_py/atari_roms/defender.bin\n",
            "copying demon_attack.bin from ROMS/Demon Attack (Death from Above) (1982) (Imagic, Rob Fulop) (720000-200, 720101-1B, 720101-1C, IA3200, IA3200C, IX-006-04) ~.bin to /usr/local/lib/python3.7/dist-packages/atari_py/atari_roms/demon_attack.bin\n",
            "copying donkey_kong.bin from ROMS/Donkey Kong (1982) (Coleco - Woodside Design Associates - Imaginative Systems Software, Garry Kitchen) (2451) ~.bin to /usr/local/lib/python3.7/dist-packages/atari_py/atari_roms/donkey_kong.bin\n",
            "copying double_dunk.bin from ROMS/Double Dunk (Super Basketball) (1989) (Atari, Matthew L. Hubbard) (CX26159) ~.bin to /usr/local/lib/python3.7/dist-packages/atari_py/atari_roms/double_dunk.bin\n",
            "copying elevator_action.bin from ROMS/Elevator Action (1983) (Atari, Dan Hitchens) (CX26126) (Prototype) ~.bin to /usr/local/lib/python3.7/dist-packages/atari_py/atari_roms/elevator_action.bin\n",
            "copying enduro.bin from ROMS/Enduro (1983) (Activision, Larry Miller) (AX-026, AX-026-04) ~.bin to /usr/local/lib/python3.7/dist-packages/atari_py/atari_roms/enduro.bin\n",
            "copying fishing_derby.bin from ROMS/Fishing Derby (1980) (Activision, David Crane) (AG-004) ~.bin to /usr/local/lib/python3.7/dist-packages/atari_py/atari_roms/fishing_derby.bin\n",
            "copying freeway.bin from ROMS/Freeway (1981) (Activision, David Crane) (AG-009, AG-009-04) ~.bin to /usr/local/lib/python3.7/dist-packages/atari_py/atari_roms/freeway.bin\n",
            "copying frogger.bin from ROMS/Frogger (1982) (Parker Brothers, Ed English, David Lamkins) (PB5300) ~.bin to /usr/local/lib/python3.7/dist-packages/atari_py/atari_roms/frogger.bin\n",
            "copying frostbite.bin from ROMS/Frostbite (1983) (Activision, Steve Cartwright) (AX-031) ~.bin to /usr/local/lib/python3.7/dist-packages/atari_py/atari_roms/frostbite.bin\n",
            "copying galaxian.bin from ROMS/Galaxian (1983) (Atari - GCC, Mark Ackerman, Tom Calderwood, Glenn Parker) (CX2684) ~.bin to /usr/local/lib/python3.7/dist-packages/atari_py/atari_roms/galaxian.bin\n",
            "copying gopher.bin from ROMS/Gopher (Gopher Attack) (1982) (U.S. Games Corporation - JWDA, Sylvia Day, Todd Marshall, Robin McDaniel, Henry Will IV) (VC2001) ~.bin to /usr/local/lib/python3.7/dist-packages/atari_py/atari_roms/gopher.bin\n",
            "copying gravitar.bin from ROMS/Gravitar (1983) (Atari, Dan Hitchens, Mimi Nyden) (CX2685) ~.bin to /usr/local/lib/python3.7/dist-packages/atari_py/atari_roms/gravitar.bin\n",
            "copying hero.bin from ROMS/H.E.R.O. (1984) (Activision, John Van Ryzin) (AZ-036-04) ~.bin to /usr/local/lib/python3.7/dist-packages/atari_py/atari_roms/hero.bin\n",
            "copying ice_hockey.bin from ROMS/Ice Hockey - Le Hockey Sur Glace (1981) (Activision, Alan Miller) (AX-012, CAX-012, AX-012-04) ~.bin to /usr/local/lib/python3.7/dist-packages/atari_py/atari_roms/ice_hockey.bin\n",
            "copying jamesbond.bin from ROMS/James Bond 007 (James Bond Agent 007) (1984) (Parker Brothers - On-Time Software, Joe Gaucher, Louis Marbel) (PB5110) ~.bin to /usr/local/lib/python3.7/dist-packages/atari_py/atari_roms/jamesbond.bin\n",
            "copying journey_escape.bin from ROMS/Journey Escape (1983) (Data Age, J. Ray Dettling) (112-006) ~.bin to /usr/local/lib/python3.7/dist-packages/atari_py/atari_roms/journey_escape.bin\n",
            "copying kaboom.bin from ROMS/Kaboom! (Paddle) (1981) (Activision, Larry Kaplan, David Crane) (AG-010, AG-010-04) ~.bin to /usr/local/lib/python3.7/dist-packages/atari_py/atari_roms/kaboom.bin\n",
            "copying kangaroo.bin from ROMS/Kangaroo (1983) (Atari - GCC, Kevin Osborn) (CX2689) ~.bin to /usr/local/lib/python3.7/dist-packages/atari_py/atari_roms/kangaroo.bin\n",
            "copying keystone_kapers.bin from ROMS/Keystone Kapers - Raueber und Gendarm (1983) (Activision, Garry Kitchen - Ariola) (EAX-025, EAX-025-04I - 711 025-725) (PAL).bin to /usr/local/lib/python3.7/dist-packages/atari_py/atari_roms/keystone_kapers.bin\n",
            "copying king_kong.bin from ROMS/King Kong (1982) (Tigervision - Software Electronics Corporation, Karl T. Olinger - Teldec) (7-001 - 3.60001 VE) (PAL).bin to /usr/local/lib/python3.7/dist-packages/atari_py/atari_roms/king_kong.bin\n",
            "copying koolaid.bin from ROMS/Kool-Aid Man (Kool Aid Pitcher Man) (1983) (M Network, Stephen Tatsumi, Jane Terjung - Kool Aid) (MT4648) ~.bin to /usr/local/lib/python3.7/dist-packages/atari_py/atari_roms/koolaid.bin\n",
            "copying krull.bin from ROMS/Krull (1983) (Atari, Jerome Domurat, Dave Staugas) (CX2682) ~.bin to /usr/local/lib/python3.7/dist-packages/atari_py/atari_roms/krull.bin\n",
            "copying kung_fu_master.bin from ROMS/Kung-Fu Master (1987) (Activision - Imagineering, Dan Kitchen, Garry Kitchen) (AG-039-04) ~.bin to /usr/local/lib/python3.7/dist-packages/atari_py/atari_roms/kung_fu_master.bin\n",
            "copying laser_gates.bin from ROMS/Laser Gates (AKA Innerspace) (1983) (Imagic, Dan Oliver) (720118-2A, 13208, EIX-007-04I) (PAL).bin to /usr/local/lib/python3.7/dist-packages/atari_py/atari_roms/laser_gates.bin\n",
            "copying lost_luggage.bin from ROMS/Lost Luggage (Airport Mayhem) (1982) (Apollo - Games by Apollo, Larry Minor, Ernie Runyon, Ed Salvo) (AP-2004) [no opening scene] ~.bin to /usr/local/lib/python3.7/dist-packages/atari_py/atari_roms/lost_luggage.bin\n",
            "copying montezuma_revenge.bin from ROMS/Montezuma's Revenge - Featuring Panama Joe (1984) (Parker Brothers - JWDA, Henry Will IV) (PB5760) ~.bin to /usr/local/lib/python3.7/dist-packages/atari_py/atari_roms/montezuma_revenge.bin\n",
            "copying mr_do.bin from ROMS/Mr. Do! (1983) (CBS Electronics, Ed English) (4L4478) (PAL).bin to /usr/local/lib/python3.7/dist-packages/atari_py/atari_roms/mr_do.bin\n",
            "copying ms_pacman.bin from ROMS/Ms. Pac-Man (1983) (Atari - GCC, Mark Ackerman, Glenn Parker) (CX2675) ~.bin to /usr/local/lib/python3.7/dist-packages/atari_py/atari_roms/ms_pacman.bin\n",
            "copying name_this_game.bin from ROMS/Name This Game (Guardians of Treasure) (1983) (U.S. Games Corporation - JWDA, Roger Booth, Sylvia Day, Ron Dubren, Todd Marshall, Robin McDaniel, Wes Trager, Henry Will IV) (VC1007) ~.bin to /usr/local/lib/python3.7/dist-packages/atari_py/atari_roms/name_this_game.bin\n",
            "copying pacman.bin from ROMS/Pac-Man (1982) (Atari, Tod Frye) (CX2646) (PAL).bin to /usr/local/lib/python3.7/dist-packages/atari_py/atari_roms/pacman.bin\n",
            "copying phoenix.bin from ROMS/Phoenix (1983) (Atari - GCC, Mike Feinstein, John Mracek) (CX2673) ~.bin to /usr/local/lib/python3.7/dist-packages/atari_py/atari_roms/phoenix.bin\n",
            "copying video_pinball.bin from ROMS/Pinball (AKA Video Pinball) (Zellers).bin to /usr/local/lib/python3.7/dist-packages/atari_py/atari_roms/video_pinball.bin\n",
            "copying pitfall.bin from ROMS/Pitfall! - Pitfall Harry's Jungle Adventure (Jungle Runner) (1982) (Activision, David Crane) (AX-018, AX-018-04) ~.bin to /usr/local/lib/python3.7/dist-packages/atari_py/atari_roms/pitfall.bin\n",
            "copying pooyan.bin from ROMS/Pooyan (1983) (Konami) (RC 100-X 02) ~.bin to /usr/local/lib/python3.7/dist-packages/atari_py/atari_roms/pooyan.bin\n",
            "copying private_eye.bin from ROMS/Private Eye (1984) (Activision, Bob Whitehead) (AG-034-04) ~.bin to /usr/local/lib/python3.7/dist-packages/atari_py/atari_roms/private_eye.bin\n",
            "copying qbert.bin from ROMS/Q-bert (1983) (Parker Brothers - Western Technologies, Dave Hampton, Tom Sloper) (PB5360) ~.bin to /usr/local/lib/python3.7/dist-packages/atari_py/atari_roms/qbert.bin\n",
            "copying riverraid.bin from ROMS/River Raid (1982) (Activision, Carol Shaw) (AX-020, AX-020-04) ~.bin to /usr/local/lib/python3.7/dist-packages/atari_py/atari_roms/riverraid.bin\n",
            "copying road_runner.bin from patched version of ROMS/Road Runner (1989) (Atari - Bobco, Robert C. Polaro) (CX2663) ~.bin to /usr/local/lib/python3.7/dist-packages/atari_py/atari_roms/road_runner.bin\n",
            "copying robotank.bin from ROMS/Robot Tank (Robotank) (1983) (Activision, Alan Miller) (AZ-028, AG-028-04) ~.bin to /usr/local/lib/python3.7/dist-packages/atari_py/atari_roms/robotank.bin\n",
            "copying seaquest.bin from ROMS/Seaquest (1983) (Activision, Steve Cartwright) (AX-022) ~.bin to /usr/local/lib/python3.7/dist-packages/atari_py/atari_roms/seaquest.bin\n",
            "copying sir_lancelot.bin from ROMS/Sir Lancelot (1983) (Xonox - K-Tel Software - Product Guild, Anthony R. Henderson) (99006, 6220) (PAL).bin to /usr/local/lib/python3.7/dist-packages/atari_py/atari_roms/sir_lancelot.bin\n",
            "copying skiing.bin from ROMS/Skiing - Le Ski (1980) (Activision, Bob Whitehead) (AG-005, CAG-005, AG-005-04) ~.bin to /usr/local/lib/python3.7/dist-packages/atari_py/atari_roms/skiing.bin\n",
            "copying solaris.bin from ROMS/Solaris (The Last Starfighter, Star Raiders II, Universe) (1986) (Atari, Douglas Neubauer, Mimi Nyden) (CX26136) ~.bin to /usr/local/lib/python3.7/dist-packages/atari_py/atari_roms/solaris.bin\n",
            "copying space_invaders.bin from ROMS/Space Invaders (1980) (Atari, Richard Maurer - Sears) (CX2632 - 49-75153) ~.bin to /usr/local/lib/python3.7/dist-packages/atari_py/atari_roms/space_invaders.bin\n",
            "copying star_gunner.bin from ROMS/Stargunner (1983) (Telesys, Alex Leavens) (1005) ~.bin to /usr/local/lib/python3.7/dist-packages/atari_py/atari_roms/star_gunner.bin\n",
            "copying surround.bin from ROMS/Surround (32 in 1) (Bit Corporation) (R320).bin to /usr/local/lib/python3.7/dist-packages/atari_py/atari_roms/surround.bin\n",
            "copying tennis.bin from ROMS/Tennis - Le Tennis (1981) (Activision, Alan Miller) (AG-007, CAG-007) ~.bin to /usr/local/lib/python3.7/dist-packages/atari_py/atari_roms/tennis.bin\n",
            "copying time_pilot.bin from ROMS/Time Pilot (1983) (Coleco - Woodside Design Associates, Harley H. Puthuff Jr.) (2663) ~.bin to /usr/local/lib/python3.7/dist-packages/atari_py/atari_roms/time_pilot.bin\n",
            "copying trondead.bin from ROMS/TRON - Deadly Discs (TRON Joystick) (1983) (M Network - INTV - APh Technological Consulting, Jeff Ronne, Brett Stutz) (MT5662) ~.bin to /usr/local/lib/python3.7/dist-packages/atari_py/atari_roms/trondead.bin\n",
            "copying tutankham.bin from ROMS/Tutankham (1983) (Parker Brothers, Dave Engman, Dawn Stockbridge) (PB5340) ~.bin to /usr/local/lib/python3.7/dist-packages/atari_py/atari_roms/tutankham.bin\n",
            "copying up_n_down.bin from ROMS/Up 'n Down (1984) (SEGA - Beck-Tech, Steve Beck, Phat Ho) (009-01) ~.bin to /usr/local/lib/python3.7/dist-packages/atari_py/atari_roms/up_n_down.bin\n",
            "copying venture.bin from ROMS/Venture (1982) (Coleco, Joseph Biel) (2457) ~.bin to /usr/local/lib/python3.7/dist-packages/atari_py/atari_roms/venture.bin\n",
            "copying pong.bin from ROMS/Video Olympics - Pong Sports (Paddle) (1977) (Atari, Joe Decuir - Sears) (CX2621 - 99806, 6-99806, 49-75104) ~.bin to /usr/local/lib/python3.7/dist-packages/atari_py/atari_roms/pong.bin\n",
            "copying wizard_of_wor.bin from ROMS/Wizard of Wor (1982) (CBS Electronics - Roklan, Joe Hellesen, Joe Wagner) (M8774, M8794) ~.bin to /usr/local/lib/python3.7/dist-packages/atari_py/atari_roms/wizard_of_wor.bin\n",
            "copying yars_revenge.bin from ROMS/Yars' Revenge (Time Freeze) (1982) (Atari, Howard Scott Warshaw - Sears) (CX2655 - 49-75167) ~.bin to /usr/local/lib/python3.7/dist-packages/atari_py/atari_roms/yars_revenge.bin\n",
            "copying zaxxon.bin from ROMS/Zaxxon (1983) (Coleco) (2454) ~.bin to /usr/local/lib/python3.7/dist-packages/atari_py/atari_roms/zaxxon.bin\n"
          ]
        }
      ]
    },
    {
      "cell_type": "code",
      "metadata": {
        "id": "qeboY1JRI9h_",
        "colab": {
          "base_uri": "https://localhost:8080/"
        },
        "outputId": "a149c5e9-5b8d-4094-d985-2e42c149d581"
      },
      "source": [
        "%%bash\n",
        "\n",
        "# install required system dependencies\n",
        "apt-get install -y xvfb x11-utils\n",
        "\n",
        "# install required python dependencies (might need to install additional gym extras depending)\n",
        "pip install gym[box2d]==0.17.* pyvirtualdisplay==0.2.* PyOpenGL==3.1.* PyOpenGL-accelerate==3.1.*"
      ],
      "execution_count": 8,
      "outputs": [
        {
          "output_type": "stream",
          "name": "stdout",
          "text": [
            "Reading package lists...\n",
            "Building dependency tree...\n",
            "Reading state information...\n",
            "x11-utils is already the newest version (7.7+3build1).\n",
            "xvfb is already the newest version (2:1.19.6-1ubuntu4.9).\n",
            "0 upgraded, 0 newly installed, 0 to remove and 37 not upgraded.\n",
            "Requirement already satisfied: gym[box2d]==0.17.* in /usr/local/lib/python3.7/dist-packages (0.17.3)\n",
            "Requirement already satisfied: pyvirtualdisplay==0.2.* in /usr/local/lib/python3.7/dist-packages (0.2.5)\n",
            "Requirement already satisfied: PyOpenGL==3.1.* in /usr/local/lib/python3.7/dist-packages (3.1.5)\n",
            "Requirement already satisfied: PyOpenGL-accelerate==3.1.* in /usr/local/lib/python3.7/dist-packages (3.1.5)\n",
            "Requirement already satisfied: EasyProcess in /usr/local/lib/python3.7/dist-packages (from pyvirtualdisplay==0.2.*) (0.3)\n",
            "Requirement already satisfied: cloudpickle<1.7.0,>=1.2.0 in /usr/local/lib/python3.7/dist-packages (from gym[box2d]==0.17.*) (1.3.0)\n",
            "Collecting pyglet<=1.5.0,>=1.4.0\n",
            "  Using cached pyglet-1.5.0-py2.py3-none-any.whl (1.0 MB)\n",
            "Requirement already satisfied: scipy in /usr/local/lib/python3.7/dist-packages (from gym[box2d]==0.17.*) (1.4.1)\n",
            "Requirement already satisfied: numpy>=1.10.4 in /usr/local/lib/python3.7/dist-packages (from gym[box2d]==0.17.*) (1.19.5)\n",
            "Requirement already satisfied: box2d-py~=2.3.5 in /usr/local/lib/python3.7/dist-packages (from gym[box2d]==0.17.*) (2.3.8)\n",
            "Requirement already satisfied: future in /usr/local/lib/python3.7/dist-packages (from pyglet<=1.5.0,>=1.4.0->gym[box2d]==0.17.*) (0.16.0)\n",
            "Installing collected packages: pyglet\n",
            "  Attempting uninstall: pyglet\n",
            "    Found existing installation: pyglet 1.5.11\n",
            "    Uninstalling pyglet-1.5.11:\n",
            "      Successfully uninstalled pyglet-1.5.11\n",
            "Successfully installed pyglet-1.5.0\n"
          ]
        }
      ]
    },
    {
      "cell_type": "code",
      "metadata": {
        "id": "h8lYv1ntJIHA"
      },
      "source": [
        "import pyvirtualdisplay\n",
        "\n",
        "\n",
        "_display = pyvirtualdisplay.Display(visible=False,  # use False with Xvfb\n",
        "                                    size=(1400, 900))\n",
        "_ = _display.start()"
      ],
      "execution_count": 9,
      "outputs": []
    },
    {
      "cell_type": "code",
      "metadata": {
        "id": "pL1AC0_B-gnd",
        "colab": {
          "base_uri": "https://localhost:8080/"
        },
        "outputId": "ae69b364-35a1-4f0f-ddf5-ace2e8244615"
      },
      "source": [
        "# breakout environment and preprocessing code\n",
        "env = gym.make(\"Breakout-v0\")\n",
        "\n",
        "print(\"Observation Space: \", env.observation_space)\n",
        "print(\"Action Space       \", env.action_space)\n",
        "\n",
        "\n",
        "obs = env.reset()\n",
        "\n",
        "for i in range(1000):\n",
        "    action = torch.randint(0, 4, (1,))\n",
        "    obs, reward, done, info = env.step(action)\n",
        "    #print(reward,action,float(done))\n",
        "    env.render()\n",
        "    time.sleep(0.01)\n",
        "    #plt.imshow(obs)\n",
        "env.close()"
      ],
      "execution_count": null,
      "outputs": [
        {
          "output_type": "stream",
          "name": "stdout",
          "text": [
            "Observation Space:  Box(0, 255, (210, 160, 3), uint8)\n",
            "Action Space        Discrete(4)\n"
          ]
        }
      ]
    },
    {
      "cell_type": "code",
      "metadata": {
        "id": "n5MBCUx9CIKH"
      },
      "source": [
        "class replayBuffer():\n",
        "  def __init__(self,max_elements,batch_size,frame_shape = [4,84,84]):\n",
        "    self.dataset = []\n",
        "    self.N = max_elements # max touples\n",
        "    self.batch_size = batch_size\n",
        "\n",
        "    self.device = torch.device(\"cuda\" if torch.cuda.is_available() else \"cpu\")\n",
        "\n",
        "    self.frames = np.zeros([self.N] + frame_shape, dtype=np.uint8)\n",
        "    self.nextframes = np.zeros([self.N] + frame_shape, dtype=np.uint8)\n",
        "    self.actions = np.zeros([self.N, 1], dtype=np.uint8)\n",
        "    self.rewards = np.zeros([self.N, 1], dtype=np.float32)  # we need extra precision for rewards\n",
        "    self.dones = np.zeros([self.N, 1], dtype=np.uint8)\n",
        "\n",
        "    self.current_free_index = 0\n",
        "\n",
        "  def getBatch(self):\n",
        "\n",
        "    random_unique_indices = random.sample(range(self.current_free_index-1), self.batch_size)\n",
        "    states = torch.from_numpy(self.frames[random_unique_indices]).to(self.device).float()\n",
        "    nextStates = torch.from_numpy(self.nextframes[random_unique_indices]).to(self.device).float()\n",
        "    actions = torch.from_numpy(self.actions[random_unique_indices]).to(self.device).long()\n",
        "    rewards = torch.from_numpy(self.rewards[random_unique_indices]).to(self.device)\n",
        "      # Float is needed because we'll be multiplying Q values with done flags (1-done actually)\n",
        "    dones = torch.from_numpy(self.dones[random_unique_indices]).to(self.device).float()\n",
        "    return states,nextStates,actions,rewards,dones\n",
        "\n",
        "  def addData(self,phi_t, action, reward, phi_t2,done):\n",
        "    if self.current_free_index >= self.N:\n",
        "      np.roll(self.frames, -1,0)\n",
        "      np.roll(self.nextframes, -1,0)\n",
        "      np.roll(self.actions, -1,0)\n",
        "      np.roll(self.rewards, -1,0)\n",
        "      np.roll(self.dones, -1,0)\n",
        "      self.current_free_index = self.current_free_index -1\n",
        "      self.frames[self.current_free_index] = phi_t.cpu()\n",
        "      self.nextframes[self.current_free_index] = phi_t2.cpu()\n",
        "      self.actions[self.current_free_index] = action\n",
        "      self.rewards[self.current_free_index] = reward\n",
        "      self.dones[self.current_free_index] = done\n",
        "      self.current_free_index +=1\n",
        "\n",
        "    elif self.current_free_index <self.N:\n",
        "        \n",
        "      self.frames[self.current_free_index] = phi_t.cpu()\n",
        "      self.nextframes[self.current_free_index] = phi_t2.cpu()\n",
        "      self.actions[self.current_free_index] = action\n",
        "      self.rewards[self.current_free_index] = reward\n",
        "      self.dones[self.current_free_index] = done\n",
        "      self.current_free_index +=1\n",
        "    return\n",
        "  \n",
        "\n"
      ],
      "execution_count": null,
      "outputs": []
    },
    {
      "cell_type": "code",
      "metadata": {
        "id": "P6p6aILgB47N"
      },
      "source": [
        "# exp. replay algorithm\n",
        "class agent():\n",
        "  def __init__(self,pre_trained_model = False):\n",
        "    torch.random.manual_seed(0)\n",
        "    np.random.seed(0)\n",
        "    self.device = torch.device(\"cuda\" if torch.cuda.is_available() else \"cpu\")\n",
        "    # init env\n",
        "    env = gym.make(\"Breakout-v0\")\n",
        "    self.original_shape = env.observation_space.shape\n",
        "    self.num_actions = env.action_space.n\n",
        "\n",
        "    # init epsilon lr, loss func , optim , target and main NN\n",
        "    self.net = DQN()\n",
        "    self.targetNet = DQN()\n",
        "    self.net.to(self.device)\n",
        "    self.targetNet.to(self.device)\n",
        "    \n",
        "    if pre_trained_model == True:\n",
        "      self.net_weights = self.load_data()\n",
        "    else:\n",
        "      self.net_weights = self.net.state_dict()\n",
        "    self.targetNet_weights = self.net_weights\n",
        "    self.targetNet.load_state_dict(self.net_weights)\n",
        "    self.loss =  nn.SmoothL1Loss()\n",
        "    self.optimizer = torch.optim.Adam(self.net.parameters(), lr = 0.0001, weight_decay=0)\n",
        "        \n",
        "    \n",
        "    # 4 img tensor\n",
        "    self.net_input = []\n",
        "\n",
        "    # train params\n",
        "    self.train_episodes = 100\n",
        "    self.test_episodes = 100\n",
        "    self.warmup_frames = 4\n",
        "    self.batch_size = 32\n",
        "    self.epsilon = 0.99\n",
        "    self.discount = 0.99\n",
        "    self.C = 1000\n",
        "    self.stepcount = 0\n",
        "\n",
        "    #replay buffer\n",
        "    self.buffer = replayBuffer(20000,self.batch_size)\n",
        "\n",
        "    #log rewards/loss\n",
        "    self.loss_log = []\n",
        "    self.train_rewards = []\n",
        "    \n",
        "  def preprocess_state(self,obs):\n",
        "    # return 1x84x84 img\n",
        "    obs = obs/255.0\n",
        "    obs = obs.astype('uint8')\n",
        "    obs = np.asarray(obs)\n",
        "    #print(obs.shape,type(obs))\n",
        "    obs = cv2.cvtColor(obs,cv2.COLOR_BGR2GRAY)\n",
        "    obs = cv2.resize(obs, (84,84), interpolation = cv2.INTER_AREA)\n",
        "    obs = torch.tensor(obs).view(1,84,84)\n",
        "    return obs.to(self.device).float()\n",
        "\n",
        "  def take_action(self,state):\n",
        "    if np.random.random() <self.epsilon:\n",
        "      action = torch.randint(0,4,(1,))\n",
        "    else:\n",
        "      with torch.no_grad():\n",
        "        action = torch.argmax(self.net(torch.unsqueeze(state,0)))\n",
        "    return action.item()\n",
        "\n",
        "  def train(self):\n",
        "    self.reward_list = []\n",
        "    for episodes in tqdm.tqdm(range(self.train_episodes)):\n",
        "      self.epsilon = 0.99*(1.1 - 5/self.train_episodes)\n",
        "      obs = env.reset()\n",
        "      obs = self.preprocess_state(obs)\n",
        "      self.net_input = obs\n",
        "      episode_reward = 0\n",
        "\n",
        "      while len(self.net_input) != self.warmup_frames:\n",
        "        action = env.action_space.sample()\n",
        "        obs, reward, done, info = env.step(action)\n",
        "        obs = self.preprocess_state(obs)\n",
        "        self.net_input = torch.cat((self.net_input, obs), dim = 0)   \n",
        "        \n",
        "      while done == False:\n",
        "        #print('ok')\n",
        "        phi_t = self.net_input\n",
        "        action = self.take_action(phi_t)\n",
        "        nxt_obs, reward, done, info = env.step(action)\n",
        "        episode_reward += reward\n",
        "\n",
        "        preprocesed_next_obs = self.preprocess_state(nxt_obs)\n",
        "        self.net_input = self.net_input[1:] # remove earliest frame\n",
        "        self.net_input = torch.cat((self.net_input, preprocesed_next_obs), dim = 0) # add latest\n",
        "        phi_t2 = self.net_input\n",
        "\n",
        "        #transition = [phi_t, action, reward, phi_t2, float(done)]\n",
        "        self.buffer.addData(phi_t, action, reward, phi_t2, float(done))\n",
        "        # if more then 32 data points added\n",
        "        \n",
        "        if self.stepcount > 32:  \n",
        "\n",
        "          states,next_states,actions,rewards,dones = self.buffer.getBatch()\n",
        "          \n",
        "          self.learn(states,next_states,actions,rewards,dones)\n",
        "\n",
        "        self.stepcount += 1\n",
        "        \n",
        "\n",
        "        if self.stepcount%self.C == 0:\n",
        "          self.targetNet.load_state_dict(self.net_weights)\n",
        "          self.save_data()\n",
        "        \n",
        "          \n",
        "      self.reward_list.append(episode_reward)\n",
        "    self.log()\n",
        "\n",
        "    return\n",
        "\n",
        "  def learn(self,states,next_states,actions,rewards,dones):\n",
        "    with torch.no_grad():\n",
        "      target_maxQ = self.targetNet(next_states).max(dim=1, keepdim=True)[0]\n",
        "      targets = rewards + self.discount*(1 - dones)*target_maxQ\n",
        "\n",
        "    current_state_q_values = self.net(states).gather(dim=1, index=actions) \n",
        "    loss = self.loss(current_state_q_values, targets)\n",
        "    self.optimizer.zero_grad()\n",
        "    loss.backward()\n",
        "    self.optimizer.step()\n",
        "    self.net_weights = self.net.state_dict()\n",
        "    wandb.log({\"loss\": loss})\n",
        "    wandb.watch(self.net)\n",
        "    \n",
        "    return loss\n",
        "  \n",
        "  def test(self):\n",
        "    self.net.load_state_dict(self.load_data())\n",
        "    test_reward_list = []\n",
        "    # test for 100 episodes of breakout\n",
        "    \n",
        "    for episodes in range(self.test_episodes):\n",
        "      episode_reward = 0\n",
        "      obs = env.reset()\n",
        "      obs = self.preprocess_state(obs)\n",
        "      self.net_input = obs\n",
        "\n",
        "      with torch.no_grad():\n",
        "        while len(self.net_input) != self.warmup_frames:\n",
        "          action = env.action_space.sample()\n",
        "          obs, reward, done, info = env.step(action)\n",
        "          obs = self.preprocess_state(obs)\n",
        "          self.net_input = torch.cat((self.net_input, obs), dim = 0)        \n",
        "\n",
        "        while done == False:\n",
        "          phi_t = self.net_input\n",
        "          action = self.take_action(phi_t)\n",
        "          nxt_obs, reward, done, info = env.step(action)\n",
        "          episode_reward += reward\n",
        "          preprocesed_next_obs = self.preprocess_state(nxt_obs)\n",
        "          self.net_input = self.net_input[1:] # remove earliest frame\n",
        "          self.net_input = torch.cat((self.net_input, preprocesed_next_obs), dim = 0) # add latest\n",
        "      \n",
        "      test_reward_list.append(episode_reward)\n",
        "\n",
        "    return float(np.mean(test_reward_list))\n",
        "        \n",
        "  def save_data(self):\n",
        "    torch.save(self.net.state_dict(),'/content/drive/MyDrive/atari_model_weights'+'/'+'model.pth')\n",
        "    return\n",
        "\n",
        "  def load_data(self):\n",
        "    return torch.load('/content/drive/MyDrive/atari_model_weights'+'/'+'model.pth')\n",
        "\n",
        "  def log(self):\n",
        "    print(self.stepcount)\n",
        "    self.save_data()\n",
        "    #self.reward_list=[np.mean(self.reward_list[i-100:i]) for i in range(100,len(self.reward_list))]\n",
        "    plt.plot(self.reward_list)\n",
        "    plt.savefig('/content/drive/MyDrive/atari_model_weights'+'/'+'train'+'.jpg')\n",
        "\n",
        "  "
      ],
      "execution_count": null,
      "outputs": []
    },
    {
      "cell_type": "code",
      "metadata": {
        "id": "fScRD8f2-7iw"
      },
      "source": [
        "atari = agent(pre_trained_model=True)"
      ],
      "execution_count": null,
      "outputs": []
    },
    {
      "cell_type": "code",
      "metadata": {
        "id": "de4ijOUp12q_"
      },
      "source": [
        "wandb.config = {\n",
        "  \"learning_rate\": 0.0001,\n",
        "  \"epochs\": 100,\n",
        "  \"batch_size\": 32\n",
        "}"
      ],
      "execution_count": null,
      "outputs": []
    },
    {
      "cell_type": "code",
      "metadata": {
        "id": "l2UKdFXp_IHR"
      },
      "source": [
        "atari.train()"
      ],
      "execution_count": null,
      "outputs": []
    },
    {
      "cell_type": "code",
      "metadata": {
        "id": "IhnoTdh6_ge4"
      },
      "source": [
        "atari.test()"
      ],
      "execution_count": null,
      "outputs": []
    },
    {
      "cell_type": "code",
      "metadata": {
        "id": "d3RdOEfsYxeo"
      },
      "source": [
        ""
      ],
      "execution_count": null,
      "outputs": []
    }
  ]
}